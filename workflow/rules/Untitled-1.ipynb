{
 "cells": [
  {
   "cell_type": "code",
   "execution_count": null,
   "id": "27d0151c",
   "metadata": {},
   "outputs": [
    {
     "data": {
      "text/plain": [
       "'2'"
      ]
     },
     "execution_count": 4,
     "metadata": {},
     "output_type": "execute_result"
    }
   ],
   "source": [
    "config = {}\n",
    "def get_num_gpus(rule):\n",
    "    gres = config.get(rule, {\"gres\": \"--gres=gres:gpu:1\"}).get(\"gres\", \"--gres=gres:gpu:1\")[len(\"--gres=\") :]\n",
    "    gres_list = gres.split(':')\n",
    "    num_gpus = gres_list[-1]\n",
    "\n",
    "    return num_gpus\n",
    "\n",
    "rule= \"pbrun_fq2bam\"\n",
    "get_num_gpus(rule)"
   ]
  }
 ],
 "metadata": {
  "kernelspec": {
   "display_name": "Python 3",
   "language": "python",
   "name": "python3"
  },
  "language_info": {
   "codemirror_mode": {
    "name": "ipython",
    "version": 3
   },
   "file_extension": ".py",
   "mimetype": "text/x-python",
   "name": "python",
   "nbconvert_exporter": "python",
   "pygments_lexer": "ipython3",
   "version": "3.9.20"
  }
 },
 "nbformat": 4,
 "nbformat_minor": 5
}
